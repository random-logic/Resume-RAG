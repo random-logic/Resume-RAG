{
 "cells": [
  {
   "cell_type": "markdown",
   "id": "f354f729",
   "metadata": {},
   "source": [
    "# Coding guidelines\n",
    "1. Modularize different code functions and parts in different cell\n",
    "2. Explain what each code cell does in markdown cells above it\n",
    "3. Put all code in the `src` folder\n",
    "4. All code should be in Jupyter Notebook files\n",
    "5. Each person should have their own Jupyter Notebook files to avoid merge conflicts"
   ]
  },
  {
   "cell_type": "markdown",
   "id": "64e9b28f",
   "metadata": {},
   "source": [
    "# Installing new packages\n",
    "1. In your conda environment in the root of your project, run `pip install [package name]`\n",
    "2. To save dependencies, run `conda env export --from-history | grep -v '^prefix:' > environment.yml`"
   ]
  }
 ],
 "metadata": {
  "kernelspec": {
   "display_name": "ResumeRAG",
   "language": "python",
   "name": "python3"
  },
  "language_info": {
   "codemirror_mode": {
    "name": "ipython",
    "version": 3
   },
   "file_extension": ".py",
   "mimetype": "text/x-python",
   "name": "python",
   "nbconvert_exporter": "python",
   "pygments_lexer": "ipython3",
   "version": "3.12.9"
  }
 },
 "nbformat": 4,
 "nbformat_minor": 5
}
