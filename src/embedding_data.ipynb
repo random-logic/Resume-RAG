{
 "cells": [
  {
   "cell_type": "code",
   "execution_count": 1,
   "id": "e3986211",
   "metadata": {},
   "outputs": [
    {
     "name": "stdout",
     "output_type": "stream",
     "text": [
      "<class 'langchain_core.documents.base.Document'>\n",
      "page_content='[{\"title\": \"Personal Portfolio Website\", \"start_date\": \"Jan 2025\", \"end_date\": \"Present\", \"association\": \"Associated with University of California, Davis\", \"description\": \"N/A\", \"skills\": [\"React.js\", \"Next.js\", \"TypeScript\", \"Tailwind CSS\"]}, {\"title\": \"GitHub Issue Ticket Bot\", \"start_date\": \"Feb 2025\", \"end_date\": \"Feb 2025\", \"association\": \"Associated with University of California, Davis\", \"description\": \"Created a bot that helps match users' preferences to Issue Tickets they want using LLMs\", \"skills\": \"N/A\"}, {\"title\": \"Movie Recommendation System\", \"start_date\": \"Oct 2024\", \"end_date\": \"Dec 2024\", \"association\": \"Associated with University of California, Davis\", \"description\": \"N/A\", \"skills\": [\"PyTorch\", \"Variational Autoencoders (VAEs)\", \"Python (Programming Language)\"]}, {\"title\": \"Dog Breed Image Classification\", \"start_date\": \"Mar 2024\", \"end_date\": \"Mar 2024\", \"association\": \"Associated with University of California, Davis\", \"description\": \">= 90% Model Accuracy\", \"skills\": [\"Keras\", \"Convolutional Neural Networks (CNN)\", \"SkLearn\", \"Pandas\", \"Python (Programming Language)\"]}, {\"title\": \"Medical Insurance ANOVA Analysis\", \"start_date\": \"Mar 2024\", \"end_date\": \"Mar 2024\", \"association\": \"Associated with University of California, Davis\", \"description\": \"N/A\", \"skills\": \"N/A\"}, {\"title\": \"Student Networking IOS App\", \"start_date\": \"Mar 2024\", \"end_date\": \"Mar 2024\", \"association\": \"Associated with University of California, Davis\", \"description\": \"N/A\", \"skills\": [\"Swift (Programming Language)\", \"SwiftUI\", \"Firebase\", \"Model-view-viewmodel (MVVM)\"]}, {\"title\": \"Mars Website\", \"start_date\": \"Oct 2023\", \"end_date\": \"Oct 2023\", \"association\": \"N/A\", \"description\": \"N/A\", \"skills\": [\"Firebase\", \"Next.js\", \"React.js\", \"Tailwind CSS\", \"TypeScript\", \"RESTful API\", \"Zod\"]}, {\"title\": \"Stroke Prediction\", \"start_date\": \"Oct 2023\", \"end_date\": \"Oct 2023\", \"association\": \"Associated with University of California, Davis\", \"description\": \"Created model for stroke prediction with 95% success rate using Seaborn, Pandas, and Sci-kit Learn\", \"skills\": \"N/A\"}, {\"title\": \"Allergen App\", \"start_date\": \"Aug 2023\", \"end_date\": \"Sep 2023\", \"association\": \"N/A\", \"description\": \"N/A\", \"skills\": [\"Google ML-Kit\", \"Flutter\", \"Dart\", \"Material UI\", \"Android Studio\", \"Figma\"]}]' metadata={'source': '/Users/mandyzhu/Desktop/DDSC_Tutorials/Resume-Data/webpages/projects_data.json', 'seq_num': 1}\n"
     ]
    }
   ],
   "source": [
    "from langchain_community.document_loaders import JSONLoader\n",
    "\n",
    "# Load data from a local JSON file without filtering\n",
    "loader = JSONLoader(\n",
    "    file_path=\"projects_data.json\",   # Path to your JSON file\n",
    "    jq_schema=\".\",                    # Load the entire JSON\n",
    "    text_content=False                # Do not wrap as Document text\n",
    ")\n",
    "\n",
    "# Load documents (this will be raw data from the JSON)\n",
    "docs = loader.load()\n",
    "\n",
    "# Check the type and content of the first document\n",
    "print(type(docs[0]))  # This will likely be a dict or list, depending on your JSON structure\n",
    "print(docs[0])        # This will print the raw content (e.g., dict or list) of the first document\n"
   ]
  },
  {
   "cell_type": "code",
   "execution_count": 2,
   "id": "76e3b346",
   "metadata": {},
   "outputs": [],
   "source": [
    "import json\n",
    "from langchain_core.documents import Document\n",
    "\n",
    "# Unwrap the stringified list of dictionaries\n",
    "raw_data = json.loads(docs[0].page_content)\n"
   ]
  },
  {
   "cell_type": "code",
   "execution_count": 3,
   "id": "23a4de02",
   "metadata": {},
   "outputs": [],
   "source": [
    "# Option 1: Serialize each project dictionary as a whole\n",
    "doc_strings = [json.dumps(entry, ensure_ascii=False) for entry in raw_data]\n"
   ]
  },
  {
   "cell_type": "code",
   "execution_count": 4,
   "id": "4501db34",
   "metadata": {},
   "outputs": [
    {
     "name": "stdout",
     "output_type": "stream",
     "text": [
      "['{\"title\": \"Personal Portfolio Website\", \"start_date\": \"Jan 2025\", \"end_date\": \"Present\", \"association\": \"Associated with University of California, Davis\", \"description\": \"N/A\", \"skills\": [\"React.js\", \"Next.js\", \"TypeScript\", \"Tailwind CSS\"]}', '{\"title\": \"GitHub Issue Ticket Bot\", \"start_date\": \"Feb 2025\", \"end_date\": \"Feb 2025\", \"association\": \"Associated with University of California, Davis\", \"description\": \"Created a bot that helps match users\\' preferences to Issue Tickets they want using LLMs\", \"skills\": \"N/A\"}', '{\"title\": \"Movie Recommendation System\", \"start_date\": \"Oct 2024\", \"end_date\": \"Dec 2024\", \"association\": \"Associated with University of California, Davis\", \"description\": \"N/A\", \"skills\": [\"PyTorch\", \"Variational Autoencoders (VAEs)\", \"Python (Programming Language)\"]}', '{\"title\": \"Dog Breed Image Classification\", \"start_date\": \"Mar 2024\", \"end_date\": \"Mar 2024\", \"association\": \"Associated with University of California, Davis\", \"description\": \">= 90% Model Accuracy\", \"skills\": [\"Keras\", \"Convolutional Neural Networks (CNN)\", \"SkLearn\", \"Pandas\", \"Python (Programming Language)\"]}', '{\"title\": \"Medical Insurance ANOVA Analysis\", \"start_date\": \"Mar 2024\", \"end_date\": \"Mar 2024\", \"association\": \"Associated with University of California, Davis\", \"description\": \"N/A\", \"skills\": \"N/A\"}', '{\"title\": \"Student Networking IOS App\", \"start_date\": \"Mar 2024\", \"end_date\": \"Mar 2024\", \"association\": \"Associated with University of California, Davis\", \"description\": \"N/A\", \"skills\": [\"Swift (Programming Language)\", \"SwiftUI\", \"Firebase\", \"Model-view-viewmodel (MVVM)\"]}', '{\"title\": \"Mars Website\", \"start_date\": \"Oct 2023\", \"end_date\": \"Oct 2023\", \"association\": \"N/A\", \"description\": \"N/A\", \"skills\": [\"Firebase\", \"Next.js\", \"React.js\", \"Tailwind CSS\", \"TypeScript\", \"RESTful API\", \"Zod\"]}', '{\"title\": \"Stroke Prediction\", \"start_date\": \"Oct 2023\", \"end_date\": \"Oct 2023\", \"association\": \"Associated with University of California, Davis\", \"description\": \"Created model for stroke prediction with 95% success rate using Seaborn, Pandas, and Sci-kit Learn\", \"skills\": \"N/A\"}', '{\"title\": \"Allergen App\", \"start_date\": \"Aug 2023\", \"end_date\": \"Sep 2023\", \"association\": \"N/A\", \"description\": \"N/A\", \"skills\": [\"Google ML-Kit\", \"Flutter\", \"Dart\", \"Material UI\", \"Android Studio\", \"Figma\"]}']\n"
     ]
    }
   ],
   "source": [
    "print(doc_strings)"
   ]
  },
  {
   "cell_type": "code",
   "execution_count": 5,
   "id": "2dee4529",
   "metadata": {},
   "outputs": [],
   "source": [
    "from langchain_core.documents import Document\n",
    "\n",
    "documents = [Document(page_content=entry) for entry in doc_strings]\n"
   ]
  },
  {
   "cell_type": "code",
   "execution_count": 6,
   "id": "c4c54a16",
   "metadata": {},
   "outputs": [
    {
     "data": {
      "text/plain": [
       "langchain_core.documents.base.Document"
      ]
     },
     "execution_count": 6,
     "metadata": {},
     "output_type": "execute_result"
    }
   ],
   "source": [
    "type(documents[0])"
   ]
  },
  {
   "cell_type": "code",
   "execution_count": 7,
   "id": "1d785325",
   "metadata": {},
   "outputs": [],
   "source": [
    "documents = [\n",
    "    Document(\n",
    "        page_content=json.dumps(entry, ensure_ascii=False),\n",
    "        metadata={\n",
    "            \"title\": entry.get(\"title\", \"\"),\n",
    "            \"start_date\": entry.get(\"start_date\", \"\"),\n",
    "            \"end_date\": entry.get(\"end_date\", \"\"),\n",
    "            \"association\": entry.get(\"association\", \"\")\n",
    "        }\n",
    "    )\n",
    "    for entry in raw_data\n",
    "]\n"
   ]
  },
  {
   "cell_type": "code",
   "execution_count": 8,
   "id": "df8dea73",
   "metadata": {},
   "outputs": [
    {
     "data": {
      "text/plain": [
       "False"
      ]
     },
     "execution_count": 8,
     "metadata": {},
     "output_type": "execute_result"
    }
   ],
   "source": [
    "from dotenv import load_dotenv\n",
    "import os\n",
    "\n",
    "load_dotenv()"
   ]
  },
  {
   "cell_type": "code",
   "execution_count": 9,
   "id": "b0dbbe12",
   "metadata": {},
   "outputs": [],
   "source": [
    "from langchain_ollama import ChatOllama\n",
    "\n",
    "llm = ChatOllama(model=\"llama3.1\")"
   ]
  },
  {
   "cell_type": "code",
   "execution_count": 10,
   "id": "1b6c0029",
   "metadata": {},
   "outputs": [],
   "source": [
    "from langchain_ollama import OllamaEmbeddings\n",
    "\n",
    "embeddings = OllamaEmbeddings(model=\"llama3.1\")"
   ]
  },
  {
   "cell_type": "code",
   "execution_count": 11,
   "id": "5358a0f0",
   "metadata": {},
   "outputs": [],
   "source": [
    "from langchain_core.vectorstores import InMemoryVectorStore\n",
    "\n",
    "vector_store = InMemoryVectorStore(embeddings)"
   ]
  },
  {
   "cell_type": "code",
   "execution_count": 12,
   "id": "ce699d1c",
   "metadata": {},
   "outputs": [
    {
     "name": "stdout",
     "output_type": "stream",
     "text": [
      "<langchain_core.vectorstores.in_memory.InMemoryVectorStore object at 0x10962b500>\n"
     ]
    }
   ],
   "source": [
    "print(vector_store)"
   ]
  }
 ],
 "metadata": {
  "kernelspec": {
   "display_name": "ResumeData",
   "language": "python",
   "name": "python3"
  },
  "language_info": {
   "codemirror_mode": {
    "name": "ipython",
    "version": 3
   },
   "file_extension": ".py",
   "mimetype": "text/x-python",
   "name": "python",
   "nbconvert_exporter": "python",
   "pygments_lexer": "ipython3",
   "version": "3.12.9"
  }
 },
 "nbformat": 4,
 "nbformat_minor": 5
}
