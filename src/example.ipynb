{
 "cells": [
  {
   "cell_type": "markdown",
   "id": "1b207ac7",
   "metadata": {},
   "source": [
    "# Example\n",
    "* All code should live here.\n",
    "* In VSCode, on the top right of this file, you should see that the Conda environment is automatically loaded."
   ]
  }
 ],
 "metadata": {
  "kernelspec": {
   "display_name": "ResumeRAG",
   "language": "python",
   "name": "python3"
  },
  "language_info": {
   "name": "python",
   "version": "3.12.9"
  }
 },
 "nbformat": 4,
 "nbformat_minor": 5
}
