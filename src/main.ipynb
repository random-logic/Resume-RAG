{
 "cells": [
  {
   "cell_type": "code",
   "execution_count": 9,
   "id": "256f2e56",
   "metadata": {},
   "outputs": [
    {
     "data": {
      "text/plain": [
       "True"
      ]
     },
     "execution_count": 9,
     "metadata": {},
     "output_type": "execute_result"
    }
   ],
   "source": [
    "from dotenv import load_dotenv\n",
    "\n",
    "load_dotenv()"
   ]
  },
  {
   "cell_type": "code",
   "execution_count": 10,
   "id": "6c0e5219",
   "metadata": {},
   "outputs": [],
   "source": [
    "from langchain_community.document_loaders import JSONLoader\n",
    "\n",
    "# Load data\n",
    "loader = JSONLoader(\n",
    "    file_path=\"../data/experience.json\",\n",
    "    jq_schema=\".\",\n",
    "    text_content=False\n",
    ")\n",
    "\n",
    "# Load documents (this will be raw data from the JSON)\n",
    "docs = loader.load()"
   ]
  },
  {
   "cell_type": "code",
   "execution_count": 11,
   "id": "be0baad8",
   "metadata": {},
   "outputs": [],
   "source": [
    "import json\n",
    "from langchain_core.documents import Document\n",
    "\n",
    "documents = [\n",
    "    Document(\n",
    "        page_content=json.dumps(entry, ensure_ascii=False),\n",
    "        metadata={\n",
    "            \"title\": entry.get(\"title\", \"\"),\n",
    "            \"start_date\": entry.get(\"start_date\", \"\"),\n",
    "            \"end_date\": entry.get(\"end_date\", \"\"),\n",
    "            \"association\": entry.get(\"association\", \"\")\n",
    "        }\n",
    "    )\n",
    "    for entry in json.loads(docs[0].page_content)\n",
    "]"
   ]
  },
  {
   "cell_type": "code",
   "execution_count": 12,
   "id": "302d11a5",
   "metadata": {},
   "outputs": [],
   "source": [
    "from langchain_ollama import ChatOllama\n",
    "\n",
    "llm = ChatOllama(model=\"llama3:8b\")"
   ]
  },
  {
   "cell_type": "code",
   "execution_count": 13,
   "id": "490046fc",
   "metadata": {},
   "outputs": [],
   "source": [
    "from langchain_ollama import OllamaEmbeddings\n",
    "\n",
    "embeddings = OllamaEmbeddings(model=\"llama3:8b\")"
   ]
  },
  {
   "cell_type": "code",
   "execution_count": 14,
   "id": "80a4b447",
   "metadata": {},
   "outputs": [],
   "source": [
    "from langchain_core.vectorstores import InMemoryVectorStore\n",
    "\n",
    "vector_store = InMemoryVectorStore(embeddings)\n",
    "_ = vector_store.add_documents(documents=documents)"
   ]
  },
  {
   "cell_type": "code",
   "execution_count": 16,
   "id": "87c56edd",
   "metadata": {},
   "outputs": [],
   "source": [
    "from langchain import hub\n",
    "\n",
    "# Define prompt for question-answering\n",
    "prompt = hub.pull(\"rlm/rag-prompt\")"
   ]
  },
  {
   "cell_type": "code",
   "execution_count": 19,
   "id": "43dd759b",
   "metadata": {},
   "outputs": [],
   "source": [
    "from typing_extensions import List, TypedDict\n",
    "\n",
    "# Define state for application\n",
    "class State(TypedDict):\n",
    "  question: str\n",
    "  context: List[Document]\n",
    "  answer: str"
   ]
  },
  {
   "cell_type": "code",
   "execution_count": 20,
   "id": "40443cb0",
   "metadata": {},
   "outputs": [],
   "source": [
    "# Define application steps\n",
    "def retrieve(state: State):\n",
    "  retrieved_docs = vector_store.similarity_search(state[\"question\"])\n",
    "  return {\"context\": retrieved_docs}\n",
    "\n",
    "def generate(state: State):\n",
    "  docs_content = \"\\n\\n\".join(doc.page_content for doc in state[\"context\"])\n",
    "  messages = prompt.invoke({\"question\": state[\"question\"], \"context\": docs_content})\n",
    "  response = llm.invoke(messages)\n",
    "  return {\"answer\": response.content}"
   ]
  },
  {
   "cell_type": "code",
   "execution_count": 22,
   "id": "b89457e7",
   "metadata": {},
   "outputs": [],
   "source": [
    "from langgraph.graph import START, StateGraph\n",
    "\n",
    "# Compile application and test\n",
    "graph_builder = StateGraph(State).add_sequence([retrieve, generate])\n",
    "graph_builder.add_edge(START, \"retrieve\")\n",
    "graph = graph_builder.compile()"
   ]
  },
  {
   "cell_type": "code",
   "execution_count": 26,
   "id": "fe211e94",
   "metadata": {},
   "outputs": [
    {
     "name": "stdout",
     "output_type": "stream",
     "text": [
      "Andrew gained experience at GDSC (Google Developer Student Club) as a Frontend Developer from October to December 2024. He was part of the product cohort, one of two software developers selected out of 200 applicants, and attended hands-on workshops to improve communication with cross-functional teams and stakeholders.\n"
     ]
    }
   ],
   "source": [
    "response = graph.invoke({\"question\": \"What experience did Andrew gain at GDSC?\"})\n",
    "print(response[\"answer\"])"
   ]
  },
  {
   "cell_type": "code",
   "execution_count": null,
   "id": "4ae968ad",
   "metadata": {},
   "outputs": [],
   "source": []
  }
 ],
 "metadata": {
  "kernelspec": {
   "display_name": "ResumeRAG",
   "language": "python",
   "name": "python3"
  },
  "language_info": {
   "codemirror_mode": {
    "name": "ipython",
    "version": 3
   },
   "file_extension": ".py",
   "mimetype": "text/x-python",
   "name": "python",
   "nbconvert_exporter": "python",
   "pygments_lexer": "ipython3",
   "version": "3.12.9"
  }
 },
 "nbformat": 4,
 "nbformat_minor": 5
}
