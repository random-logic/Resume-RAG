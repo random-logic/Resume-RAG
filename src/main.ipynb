{
 "cells": [
  {
   "cell_type": "code",
   "execution_count": 1,
   "id": "256f2e56",
   "metadata": {},
   "outputs": [
    {
     "data": {
      "text/plain": [
       "True"
      ]
     },
     "execution_count": 1,
     "metadata": {},
     "output_type": "execute_result"
    }
   ],
   "source": [
    "from dotenv import load_dotenv\n",
    "\n",
    "load_dotenv()"
   ]
  },
  {
   "cell_type": "code",
   "execution_count": 2,
   "id": "6c0e5219",
   "metadata": {},
   "outputs": [],
   "source": [
    "from langchain_community.document_loaders import JSONLoader\n",
    "\n",
    "# Load data\n",
    "loader = JSONLoader(\n",
    "    file_path=\"../data/experience.json\",\n",
    "    jq_schema=\".\",\n",
    "    text_content=False\n",
    ")\n",
    "\n",
    "# Load documents (this will be raw data from the JSON)\n",
    "docs = loader.load()"
   ]
  },
  {
   "cell_type": "code",
   "execution_count": 3,
   "id": "be0baad8",
   "metadata": {},
   "outputs": [],
   "source": [
    "import json\n",
    "from langchain_core.documents import Document\n",
    "\n",
    "documents = [\n",
    "    Document(\n",
    "        page_content=json.dumps(entry, ensure_ascii=False),\n",
    "        metadata={\n",
    "            \"title\": entry.get(\"title\", \"\"),\n",
    "            \"start_date\": entry.get(\"start_date\", \"\"),\n",
    "            \"end_date\": entry.get(\"end_date\", \"\"),\n",
    "            \"association\": entry.get(\"association\", \"\")\n",
    "        }\n",
    "    )\n",
    "    for entry in json.loads(docs[0].page_content)\n",
    "]"
   ]
  },
  {
   "cell_type": "code",
   "execution_count": 4,
   "id": "302d11a5",
   "metadata": {},
   "outputs": [],
   "source": [
    "from langchain_ollama import ChatOllama\n",
    "\n",
    "llm = ChatOllama(model=\"llama3:8b\")"
   ]
  },
  {
   "cell_type": "code",
   "execution_count": 5,
   "id": "490046fc",
   "metadata": {},
   "outputs": [],
   "source": [
    "from langchain_ollama import OllamaEmbeddings\n",
    "\n",
    "embeddings = OllamaEmbeddings(model=\"llama3:8b\")"
   ]
  },
  {
   "cell_type": "code",
   "execution_count": 6,
   "id": "80a4b447",
   "metadata": {},
   "outputs": [],
   "source": [
    "from langchain_core.vectorstores import InMemoryVectorStore\n",
    "\n",
    "vector_store = InMemoryVectorStore(embeddings)\n",
    "_ = vector_store.add_documents(documents=documents)"
   ]
  },
  {
   "cell_type": "code",
   "execution_count": 17,
   "id": "87c56edd",
   "metadata": {},
   "outputs": [],
   "source": [
    "from langchain.prompts import PromptTemplate\n",
    "\n",
    "prompt = PromptTemplate(\n",
    "    input_variables=[\"context\", \"question\"],\n",
    "    template=\"\"\"\n",
    "You are an expert resume writer. Given the context and a tailoring instruction (question), generate a customized resume section or full resume.\n",
    "\n",
    "Context (raw resume data or background info):\n",
    "{context}\n",
    "\n",
    "Tailoring Request (e.g. job role, industry, emphasis):\n",
    "{question}\n",
    "\n",
    "Generate a professional, cleanly formatted resume tailored to the request.\n",
    "\"\"\",\n",
    ")"
   ]
  },
  {
   "cell_type": "code",
   "execution_count": 18,
   "id": "43dd759b",
   "metadata": {},
   "outputs": [],
   "source": [
    "from typing_extensions import List, TypedDict\n",
    "\n",
    "# Define state for application\n",
    "class State(TypedDict):\n",
    "  question: str\n",
    "  context: List[Document]\n",
    "  answer: str"
   ]
  },
  {
   "cell_type": "code",
   "execution_count": 19,
   "id": "40443cb0",
   "metadata": {},
   "outputs": [],
   "source": [
    "# Define application steps\n",
    "def retrieve(state: State):\n",
    "  retrieved_docs = vector_store.similarity_search(state[\"question\"])\n",
    "  return {\"context\": retrieved_docs}\n",
    "\n",
    "def generate(state: State):\n",
    "  docs_content = \"\\n\\n\".join(doc.page_content for doc in state[\"context\"])\n",
    "  messages = prompt.invoke({\"question\": state[\"question\"], \"context\": docs_content})\n",
    "  response = llm.invoke(messages)\n",
    "  return {\"answer\": response.content}"
   ]
  },
  {
   "cell_type": "code",
   "execution_count": 20,
   "id": "b89457e7",
   "metadata": {},
   "outputs": [],
   "source": [
    "from langgraph.graph import START, StateGraph\n",
    "\n",
    "# Compile application and test\n",
    "graph_builder = StateGraph(State).add_sequence([retrieve, generate])\n",
    "graph_builder.add_edge(START, \"retrieve\")\n",
    "graph = graph_builder.compile()"
   ]
  },
  {
   "cell_type": "code",
   "execution_count": 30,
   "id": "2952ce5b",
   "metadata": {},
   "outputs": [],
   "source": [
    "job_description = \"\"\"\n",
    "We are looking for a Software Engineer with experience in full-stack web development.\n",
    "The ideal candidate will be proficient in Python, React, and cloud infrastructure (AWS or GCP).\n",
    "Responsibilities include developing scalable web applications, working closely with product teams,\n",
    "and contributing to system design and architecture. Experience with CI/CD pipelines and Docker is a plus.\n",
    "\"\"\""
   ]
  },
  {
   "cell_type": "code",
   "execution_count": 31,
   "id": "fe211e94",
   "metadata": {},
   "outputs": [
    {
     "name": "stdout",
     "output_type": "stream",
     "text": [
      "Here's a customized resume based on the provided context and tailoring instruction:\n",
      "\n",
      "**[Your Name]**\n",
      "**Software Engineer**\n",
      "\n",
      "**Summary:**\n",
      "Highly motivated and detail-oriented software engineer with experience in full-stack web development, proficiency in Python, React, and cloud infrastructure (AWS/GCP). Proven track record of developing scalable web applications, collaborating closely with product teams, and contributing to system design and architecture.\n",
      "\n",
      "**Technical Skills:**\n",
      "\n",
      "* Programming languages: Python\n",
      "* Front-end frameworks: React\n",
      "* Cloud infrastructure: AWS/GCP\n",
      "* Full-stack development experience\n",
      "* CI/CD pipelines: [insert relevant experience or training]\n",
      "* Docker: [insert relevant experience or training]\n",
      "\n",
      "**Experience:**\n",
      "\n",
      "**Software Engineer Internship, Technical Consulting & Research, Inc. (Jan 2025 - Apr 2025)**\n",
      "* Collaborated with stakeholders to design and develop scalable backend systems using Auth0\n",
      "* Created SQL database schemas using SQLAlchemy and implemented authenticated APIs with user role management and scopes\n",
      "* Developed access control matrices to present ideas and improve system security\n",
      "\n",
      "**Frontend Developer, Google Developer Student Club (Oct 2024 - Dec 2024)**\n",
      "* Worked on a product cohort as one of two software developers out of 200 applicants, sponsored by Google\n",
      "* Attended hands-on workshops to improve communication with cross-functional teams and stakeholders backed by YC\n",
      "\n",
      "**Frontend and Backend Developer, University of California Davis (Jun 2023 - Sep 2023)**\n",
      "* Developed a learning website with interactive quiz questions using PrairieLearn for professor\n",
      "* Examined documentation and source code of various libraries for custom grading of boolean equations and circuit diagrams\n",
      "* Demonstrated proficiency in Python programming language\n",
      "\n",
      "**Lead Machine Learning Engineer, Davis Data Science Club (Jan 2025 - May 2025)**\n",
      "* Led a team of 4 in building a hybrid demand forecast model using time-series regression and deep learning\n",
      "* Hosted weekly meetings to ensure team members were on track, received assistance, and set expectations\n",
      "* Developed strong leadership and project management skills\n",
      "\n",
      "**Education:**\n",
      "[Insert relevant education background]\n",
      "\n",
      "Remember to customize the resume further by highlighting your achievements, quantifying your impact, and removing any irrelevant information. Good luck with your job application!\n"
     ]
    }
   ],
   "source": [
    "response = graph.invoke({\"question\": f\"Tailor this resume for the following job: {job_description}\"})\n",
    "print(response[\"answer\"])"
   ]
  },
  {
   "cell_type": "code",
   "execution_count": null,
   "id": "2c39177f",
   "metadata": {},
   "outputs": [],
   "source": []
  }
 ],
 "metadata": {
  "kernelspec": {
   "display_name": "ResumeRAG",
   "language": "python",
   "name": "python3"
  },
  "language_info": {
   "codemirror_mode": {
    "name": "ipython",
    "version": 3
   },
   "file_extension": ".py",
   "mimetype": "text/x-python",
   "name": "python",
   "nbconvert_exporter": "python",
   "pygments_lexer": "ipython3",
   "version": "3.12.9"
  }
 },
 "nbformat": 4,
 "nbformat_minor": 5
}
